{
  "cells": [
    {
      "cell_type": "markdown",
      "source": [
        "## Importing & exploration"
      ],
      "metadata": {
        "id": "WCtjOO6lT5Zb"
      }
    },
    {
      "cell_type": "code",
      "source": [
        "from google.colab import drive \n",
        "drive.mount('/content/gdrive')"
      ],
      "metadata": {
        "id": "msDRDmKQvPHr",
        "outputId": "23f5da71-5d34-4e0b-fd85-8d78ab1e2aea",
        "colab": {
          "base_uri": "https://localhost:8080/"
        }
      },
      "execution_count": 1,
      "outputs": [
        {
          "output_type": "stream",
          "name": "stdout",
          "text": [
            "Mounted at /content/gdrive\n"
          ]
        }
      ]
    },
    {
      "cell_type": "code",
      "source": [
        "import pandas as pd\n",
        "import numpy as np\n",
        "from sklearn import preprocessing\n",
        "import matplotlib.pyplot as plt\n",
        "plt.rc(\"font\",size=14)\n",
        "from sklearn.linear_model import LogisticRegression\n",
        "\n",
        "import seaborn as sns\n",
        "sns.set(style=\"white\")\n",
        "sns.set(style=\"whitegrid\",color_codes=True)"
      ],
      "metadata": {
        "id": "0J3RiWTgvfPE"
      },
      "execution_count": 2,
      "outputs": []
    },
    {
      "cell_type": "code",
      "source": [
        "data=pd.read_csv('gdrive/My Drive/link4ff.csv')\n"
      ],
      "metadata": {
        "id": "8hpXIz3OvPPw"
      },
      "execution_count": 11,
      "outputs": []
    },
    {
      "cell_type": "code",
      "source": [
        "list(data.columns)"
      ],
      "metadata": {
        "id": "WjCXY4zxKQlt",
        "outputId": "33727c13-43b9-4847-d17b-e62bee594498",
        "colab": {
          "base_uri": "https://localhost:8080/"
        }
      },
      "execution_count": 12,
      "outputs": [
        {
          "output_type": "execute_result",
          "data": {
            "text/plain": [
              "['Liczba klikniec',\n",
              " 'Liczba wyswietlen',\n",
              " 'Check_conversion',\n",
              " 'Path_Lenght',\n",
              " 'Check_SEM_Engaged',\n",
              " 'Check_BeforeToLast_for_SEM',\n",
              " 'SEM_ends_path',\n",
              " 'Check_BeforeToLast_for_RTB',\n",
              " 'Check_Affiliate_Engaged',\n",
              " 'Check_BeforeToLast_for_Affiliate',\n",
              " 'Affiliate_ends_path']"
            ]
          },
          "metadata": {},
          "execution_count": 12
        }
      ]
    },
    {
      "cell_type": "code",
      "source": [
        "data.info()"
      ],
      "metadata": {
        "colab": {
          "base_uri": "https://localhost:8080/"
        },
        "id": "Z9vFaWddYdp9",
        "outputId": "e75ad2c9-20f5-4c98-8c80-fcd6bf97a060"
      },
      "execution_count": 13,
      "outputs": [
        {
          "output_type": "stream",
          "name": "stdout",
          "text": [
            "<class 'pandas.core.frame.DataFrame'>\n",
            "RangeIndex: 149674 entries, 0 to 149673\n",
            "Data columns (total 11 columns):\n",
            " #   Column                            Non-Null Count   Dtype\n",
            "---  ------                            --------------   -----\n",
            " 0   Liczba klikniec                   149674 non-null  int64\n",
            " 1   Liczba wyswietlen                 149674 non-null  int64\n",
            " 2   Check_conversion                  149674 non-null  int64\n",
            " 3   Path_Lenght                       149674 non-null  int64\n",
            " 4   Check_SEM_Engaged                 149674 non-null  int64\n",
            " 5   Check_BeforeToLast_for_SEM        149674 non-null  int64\n",
            " 6   SEM_ends_path                     149674 non-null  int64\n",
            " 7   Check_BeforeToLast_for_RTB        149674 non-null  int64\n",
            " 8   Check_Affiliate_Engaged           149674 non-null  int64\n",
            " 9   Check_BeforeToLast_for_Affiliate  149674 non-null  int64\n",
            " 10  Affiliate_ends_path               149674 non-null  int64\n",
            "dtypes: int64(11)\n",
            "memory usage: 12.6 MB\n"
          ]
        }
      ]
    },
    {
      "cell_type": "code",
      "source": [
        "data.shape"
      ],
      "metadata": {
        "colab": {
          "base_uri": "https://localhost:8080/"
        },
        "id": "pmfFRJgrYik5",
        "outputId": "cd884179-6d6a-4af0-813c-b32616cdd2e9"
      },
      "execution_count": 14,
      "outputs": [
        {
          "output_type": "execute_result",
          "data": {
            "text/plain": [
              "(149674, 11)"
            ]
          },
          "metadata": {},
          "execution_count": 14
        }
      ]
    },
    {
      "cell_type": "code",
      "source": [
        "data.head(10)"
      ],
      "metadata": {
        "id": "iW6bCtxYTeL3",
        "outputId": "b3dc206b-fba9-42a3-d5a4-fa50c014d972",
        "colab": {
          "base_uri": "https://localhost:8080/",
          "height": 363
        }
      },
      "execution_count": 15,
      "outputs": [
        {
          "output_type": "execute_result",
          "data": {
            "text/plain": [
              "   Liczba klikniec  Liczba wyswietlen  Check_conversion  Path_Lenght  \\\n",
              "0                5                  0                 1            5   \n",
              "1               33                  0                 1           33   \n",
              "2                1                  0                 1            1   \n",
              "3                1                  0                 1            1   \n",
              "4                1                  0                 1            1   \n",
              "5                1                  0                 1            1   \n",
              "6               21                  1                 1           22   \n",
              "7              100                100                 1          200   \n",
              "8               91                  0                 1           91   \n",
              "9                2                  0                 1            2   \n",
              "\n",
              "   Check_SEM_Engaged  Check_BeforeToLast_for_SEM  SEM_ends_path  \\\n",
              "0                  0                           0              0   \n",
              "1                  0                           0              0   \n",
              "2                  0                           1              0   \n",
              "3                  0                           1              0   \n",
              "4                  0                           0              0   \n",
              "5                  0                           0              0   \n",
              "6                  0                           0              0   \n",
              "7                  0                           0              0   \n",
              "8                  0                           0              0   \n",
              "9                  0                           0              0   \n",
              "\n",
              "   Check_BeforeToLast_for_RTB  Check_Affiliate_Engaged  \\\n",
              "0                           0                        1   \n",
              "1                           0                        1   \n",
              "2                           0                        0   \n",
              "3                           0                        0   \n",
              "4                           0                        0   \n",
              "5                           0                        0   \n",
              "6                           0                        1   \n",
              "7                           0                        0   \n",
              "8                           0                        1   \n",
              "9                           1                        1   \n",
              "\n",
              "   Check_BeforeToLast_for_Affiliate  Affiliate_ends_path  \n",
              "0                                 0                    1  \n",
              "1                                 0                    1  \n",
              "2                                 0                    0  \n",
              "3                                 0                    0  \n",
              "4                                 0                    0  \n",
              "5                                 0                    0  \n",
              "6                                 0                    1  \n",
              "7                                 0                    1  \n",
              "8                                 0                    1  \n",
              "9                                 0                    1  "
            ],
            "text/html": [
              "\n",
              "  <div id=\"df-3bc6d8c8-238e-4032-9552-1b0c2cff5c79\">\n",
              "    <div class=\"colab-df-container\">\n",
              "      <div>\n",
              "<style scoped>\n",
              "    .dataframe tbody tr th:only-of-type {\n",
              "        vertical-align: middle;\n",
              "    }\n",
              "\n",
              "    .dataframe tbody tr th {\n",
              "        vertical-align: top;\n",
              "    }\n",
              "\n",
              "    .dataframe thead th {\n",
              "        text-align: right;\n",
              "    }\n",
              "</style>\n",
              "<table border=\"1\" class=\"dataframe\">\n",
              "  <thead>\n",
              "    <tr style=\"text-align: right;\">\n",
              "      <th></th>\n",
              "      <th>Liczba klikniec</th>\n",
              "      <th>Liczba wyswietlen</th>\n",
              "      <th>Check_conversion</th>\n",
              "      <th>Path_Lenght</th>\n",
              "      <th>Check_SEM_Engaged</th>\n",
              "      <th>Check_BeforeToLast_for_SEM</th>\n",
              "      <th>SEM_ends_path</th>\n",
              "      <th>Check_BeforeToLast_for_RTB</th>\n",
              "      <th>Check_Affiliate_Engaged</th>\n",
              "      <th>Check_BeforeToLast_for_Affiliate</th>\n",
              "      <th>Affiliate_ends_path</th>\n",
              "    </tr>\n",
              "  </thead>\n",
              "  <tbody>\n",
              "    <tr>\n",
              "      <th>0</th>\n",
              "      <td>5</td>\n",
              "      <td>0</td>\n",
              "      <td>1</td>\n",
              "      <td>5</td>\n",
              "      <td>0</td>\n",
              "      <td>0</td>\n",
              "      <td>0</td>\n",
              "      <td>0</td>\n",
              "      <td>1</td>\n",
              "      <td>0</td>\n",
              "      <td>1</td>\n",
              "    </tr>\n",
              "    <tr>\n",
              "      <th>1</th>\n",
              "      <td>33</td>\n",
              "      <td>0</td>\n",
              "      <td>1</td>\n",
              "      <td>33</td>\n",
              "      <td>0</td>\n",
              "      <td>0</td>\n",
              "      <td>0</td>\n",
              "      <td>0</td>\n",
              "      <td>1</td>\n",
              "      <td>0</td>\n",
              "      <td>1</td>\n",
              "    </tr>\n",
              "    <tr>\n",
              "      <th>2</th>\n",
              "      <td>1</td>\n",
              "      <td>0</td>\n",
              "      <td>1</td>\n",
              "      <td>1</td>\n",
              "      <td>0</td>\n",
              "      <td>1</td>\n",
              "      <td>0</td>\n",
              "      <td>0</td>\n",
              "      <td>0</td>\n",
              "      <td>0</td>\n",
              "      <td>0</td>\n",
              "    </tr>\n",
              "    <tr>\n",
              "      <th>3</th>\n",
              "      <td>1</td>\n",
              "      <td>0</td>\n",
              "      <td>1</td>\n",
              "      <td>1</td>\n",
              "      <td>0</td>\n",
              "      <td>1</td>\n",
              "      <td>0</td>\n",
              "      <td>0</td>\n",
              "      <td>0</td>\n",
              "      <td>0</td>\n",
              "      <td>0</td>\n",
              "    </tr>\n",
              "    <tr>\n",
              "      <th>4</th>\n",
              "      <td>1</td>\n",
              "      <td>0</td>\n",
              "      <td>1</td>\n",
              "      <td>1</td>\n",
              "      <td>0</td>\n",
              "      <td>0</td>\n",
              "      <td>0</td>\n",
              "      <td>0</td>\n",
              "      <td>0</td>\n",
              "      <td>0</td>\n",
              "      <td>0</td>\n",
              "    </tr>\n",
              "    <tr>\n",
              "      <th>5</th>\n",
              "      <td>1</td>\n",
              "      <td>0</td>\n",
              "      <td>1</td>\n",
              "      <td>1</td>\n",
              "      <td>0</td>\n",
              "      <td>0</td>\n",
              "      <td>0</td>\n",
              "      <td>0</td>\n",
              "      <td>0</td>\n",
              "      <td>0</td>\n",
              "      <td>0</td>\n",
              "    </tr>\n",
              "    <tr>\n",
              "      <th>6</th>\n",
              "      <td>21</td>\n",
              "      <td>1</td>\n",
              "      <td>1</td>\n",
              "      <td>22</td>\n",
              "      <td>0</td>\n",
              "      <td>0</td>\n",
              "      <td>0</td>\n",
              "      <td>0</td>\n",
              "      <td>1</td>\n",
              "      <td>0</td>\n",
              "      <td>1</td>\n",
              "    </tr>\n",
              "    <tr>\n",
              "      <th>7</th>\n",
              "      <td>100</td>\n",
              "      <td>100</td>\n",
              "      <td>1</td>\n",
              "      <td>200</td>\n",
              "      <td>0</td>\n",
              "      <td>0</td>\n",
              "      <td>0</td>\n",
              "      <td>0</td>\n",
              "      <td>0</td>\n",
              "      <td>0</td>\n",
              "      <td>1</td>\n",
              "    </tr>\n",
              "    <tr>\n",
              "      <th>8</th>\n",
              "      <td>91</td>\n",
              "      <td>0</td>\n",
              "      <td>1</td>\n",
              "      <td>91</td>\n",
              "      <td>0</td>\n",
              "      <td>0</td>\n",
              "      <td>0</td>\n",
              "      <td>0</td>\n",
              "      <td>1</td>\n",
              "      <td>0</td>\n",
              "      <td>1</td>\n",
              "    </tr>\n",
              "    <tr>\n",
              "      <th>9</th>\n",
              "      <td>2</td>\n",
              "      <td>0</td>\n",
              "      <td>1</td>\n",
              "      <td>2</td>\n",
              "      <td>0</td>\n",
              "      <td>0</td>\n",
              "      <td>0</td>\n",
              "      <td>1</td>\n",
              "      <td>1</td>\n",
              "      <td>0</td>\n",
              "      <td>1</td>\n",
              "    </tr>\n",
              "  </tbody>\n",
              "</table>\n",
              "</div>\n",
              "      <button class=\"colab-df-convert\" onclick=\"convertToInteractive('df-3bc6d8c8-238e-4032-9552-1b0c2cff5c79')\"\n",
              "              title=\"Convert this dataframe to an interactive table.\"\n",
              "              style=\"display:none;\">\n",
              "        \n",
              "  <svg xmlns=\"http://www.w3.org/2000/svg\" height=\"24px\"viewBox=\"0 0 24 24\"\n",
              "       width=\"24px\">\n",
              "    <path d=\"M0 0h24v24H0V0z\" fill=\"none\"/>\n",
              "    <path d=\"M18.56 5.44l.94 2.06.94-2.06 2.06-.94-2.06-.94-.94-2.06-.94 2.06-2.06.94zm-11 1L8.5 8.5l.94-2.06 2.06-.94-2.06-.94L8.5 2.5l-.94 2.06-2.06.94zm10 10l.94 2.06.94-2.06 2.06-.94-2.06-.94-.94-2.06-.94 2.06-2.06.94z\"/><path d=\"M17.41 7.96l-1.37-1.37c-.4-.4-.92-.59-1.43-.59-.52 0-1.04.2-1.43.59L10.3 9.45l-7.72 7.72c-.78.78-.78 2.05 0 2.83L4 21.41c.39.39.9.59 1.41.59.51 0 1.02-.2 1.41-.59l7.78-7.78 2.81-2.81c.8-.78.8-2.07 0-2.86zM5.41 20L4 18.59l7.72-7.72 1.47 1.35L5.41 20z\"/>\n",
              "  </svg>\n",
              "      </button>\n",
              "      \n",
              "  <style>\n",
              "    .colab-df-container {\n",
              "      display:flex;\n",
              "      flex-wrap:wrap;\n",
              "      gap: 12px;\n",
              "    }\n",
              "\n",
              "    .colab-df-convert {\n",
              "      background-color: #E8F0FE;\n",
              "      border: none;\n",
              "      border-radius: 50%;\n",
              "      cursor: pointer;\n",
              "      display: none;\n",
              "      fill: #1967D2;\n",
              "      height: 32px;\n",
              "      padding: 0 0 0 0;\n",
              "      width: 32px;\n",
              "    }\n",
              "\n",
              "    .colab-df-convert:hover {\n",
              "      background-color: #E2EBFA;\n",
              "      box-shadow: 0px 1px 2px rgba(60, 64, 67, 0.3), 0px 1px 3px 1px rgba(60, 64, 67, 0.15);\n",
              "      fill: #174EA6;\n",
              "    }\n",
              "\n",
              "    [theme=dark] .colab-df-convert {\n",
              "      background-color: #3B4455;\n",
              "      fill: #D2E3FC;\n",
              "    }\n",
              "\n",
              "    [theme=dark] .colab-df-convert:hover {\n",
              "      background-color: #434B5C;\n",
              "      box-shadow: 0px 1px 3px 1px rgba(0, 0, 0, 0.15);\n",
              "      filter: drop-shadow(0px 1px 2px rgba(0, 0, 0, 0.3));\n",
              "      fill: #FFFFFF;\n",
              "    }\n",
              "  </style>\n",
              "\n",
              "      <script>\n",
              "        const buttonEl =\n",
              "          document.querySelector('#df-3bc6d8c8-238e-4032-9552-1b0c2cff5c79 button.colab-df-convert');\n",
              "        buttonEl.style.display =\n",
              "          google.colab.kernel.accessAllowed ? 'block' : 'none';\n",
              "\n",
              "        async function convertToInteractive(key) {\n",
              "          const element = document.querySelector('#df-3bc6d8c8-238e-4032-9552-1b0c2cff5c79');\n",
              "          const dataTable =\n",
              "            await google.colab.kernel.invokeFunction('convertToInteractive',\n",
              "                                                     [key], {});\n",
              "          if (!dataTable) return;\n",
              "\n",
              "          const docLinkHtml = 'Like what you see? Visit the ' +\n",
              "            '<a target=\"_blank\" href=https://colab.research.google.com/notebooks/data_table.ipynb>data table notebook</a>'\n",
              "            + ' to learn more about interactive tables.';\n",
              "          element.innerHTML = '';\n",
              "          dataTable['output_type'] = 'display_data';\n",
              "          await google.colab.output.renderOutput(dataTable, element);\n",
              "          const docLink = document.createElement('div');\n",
              "          docLink.innerHTML = docLinkHtml;\n",
              "          element.appendChild(docLink);\n",
              "        }\n",
              "      </script>\n",
              "    </div>\n",
              "  </div>\n",
              "  "
            ]
          },
          "metadata": {},
          "execution_count": 15
        }
      ]
    },
    {
      "cell_type": "code",
      "source": [
        "sns.countplot(x='Check_conversion',data=data,palette='hls')\n",
        "plt.show()\n",
        "plt.savefig('count_plot')"
      ],
      "metadata": {
        "id": "0MCV4kPdSvJQ",
        "outputId": "46c62ce9-8641-4710-d597-7224e424a6f1",
        "colab": {
          "base_uri": "https://localhost:8080/",
          "height": 302
        }
      },
      "execution_count": 16,
      "outputs": [
        {
          "output_type": "display_data",
          "data": {
            "text/plain": [
              "<Figure size 432x288 with 1 Axes>"
            ],
            "image/png": "[encoded data removed]"
          },
          "metadata": {}
        },
        {
          "output_type": "display_data",
          "data": {
            "text/plain": [
              "<Figure size 432x288 with 0 Axes>"
            ]
          },
          "metadata": {}
        }
      ]
    },
    {
      "cell_type": "markdown",
      "source": [
        "##Feature Selection"
      ],
      "metadata": {
        "id": "dDHiFANSkYCT"
      }
    },
    {
      "cell_type": "code",
      "source": [
        "categorical_variable_cols = ['Liczba klikniec',\n",
        " 'Liczba wyswietlen',\n",
        " 'Path_Lenght',\n",
        " 'Check_Affiliate_Engaged',\n",
        " 'Check_BeforeToLast_for_Affiliate',\n",
        " 'Affiliate_ends_path']\n",
        "\n",
        "\n",
        "for var in categorical_variable_cols:\n",
        "    categ_list = 'var_' + var\n",
        "    categ_list = pd.get_dummies(data[var],prefix = var)\n",
        "    data1=data.join(categ_list)\n",
        "    data = data1\n",
        "\n",
        "\n",
        "data_vars = data.columns.values.tolist()\n",
        "to_keep=[i for i in data_vars if i not in categorical_variable_cols]"
      ],
      "metadata": {
        "id": "oMGR3V5BX2RV"
      },
      "execution_count": 17,
      "outputs": []
    },
    {
      "cell_type": "code",
      "source": [
        "data_final = data[to_keep]\n",
        "data_final.columns.values"
      ],
      "metadata": {
        "colab": {
          "base_uri": "https://localhost:8080/"
        },
        "id": "_RM2ycX7X2Ua",
        "outputId": "aa37fa9b-3dc9-4b5b-e8c4-22d841263a57"
      },
      "execution_count": 18,
      "outputs": [
        {
          "output_type": "execute_result",
          "data": {
            "text/plain": [
              "array(['Check_conversion', 'Check_SEM_Engaged',\n",
              "       'Check_BeforeToLast_for_SEM', 'SEM_ends_path',\n",
              "       'Check_BeforeToLast_for_RTB', 'Liczba klikniec_0',\n",
              "       'Liczba klikniec_1', 'Liczba klikniec_2', 'Liczba klikniec_3',\n",
              "       'Liczba klikniec_4', 'Liczba klikniec_5', 'Liczba klikniec_6',\n",
              "       'Liczba klikniec_7', 'Liczba klikniec_8', 'Liczba klikniec_9',\n",
              "       'Liczba klikniec_10', 'Liczba klikniec_11', 'Liczba klikniec_12',\n",
              "       'Liczba klikniec_13', 'Liczba klikniec_14', 'Liczba klikniec_15',\n",
              "       'Liczba klikniec_16', 'Liczba klikniec_17', 'Liczba klikniec_18',\n",
              "       'Liczba klikniec_19', 'Liczba klikniec_20', 'Liczba klikniec_21',\n",
              "       'Liczba klikniec_22', 'Liczba klikniec_23', 'Liczba klikniec_24',\n",
              "       'Liczba klikniec_25', 'Liczba klikniec_26', 'Liczba klikniec_27',\n",
              "       'Liczba klikniec_28', 'Liczba klikniec_29', 'Liczba klikniec_30',\n",
              "       'Liczba klikniec_31', 'Liczba klikniec_32', 'Liczba klikniec_33',\n",
              "       'Liczba klikniec_34', 'Liczba klikniec_35', 'Liczba klikniec_36',\n",
              "       'Liczba klikniec_37', 'Liczba klikniec_38', 'Liczba klikniec_39',\n",
              "       'Liczba klikniec_40', 'Liczba klikniec_41', 'Liczba klikniec_42',\n",
              "       'Liczba klikniec_43', 'Liczba klikniec_44', 'Liczba klikniec_45',\n",
              "       'Liczba klikniec_46', 'Liczba klikniec_47', 'Liczba klikniec_48',\n",
              "       'Liczba klikniec_49', 'Liczba klikniec_50', 'Liczba klikniec_51',\n",
              "       'Liczba klikniec_52', 'Liczba klikniec_53', 'Liczba klikniec_54',\n",
              "       'Liczba klikniec_55', 'Liczba klikniec_56', 'Liczba klikniec_57',\n",
              "       'Liczba klikniec_58', 'Liczba klikniec_59', 'Liczba klikniec_60',\n",
              "       'Liczba klikniec_61', 'Liczba klikniec_62', 'Liczba klikniec_63',\n",
              "       'Liczba klikniec_64', 'Liczba klikniec_65', 'Liczba klikniec_66',\n",
              "       'Liczba klikniec_67', 'Liczba klikniec_68', 'Liczba klikniec_69',\n",
              "       'Liczba klikniec_70', 'Liczba klikniec_71', 'Liczba klikniec_72',\n",
              "       'Liczba klikniec_73', 'Liczba klikniec_74', 'Liczba klikniec_75',\n",
              "       'Liczba klikniec_76', 'Liczba klikniec_77', 'Liczba klikniec_78',\n",
              "       'Liczba klikniec_79', 'Liczba klikniec_80', 'Liczba klikniec_81',\n",
              "       'Liczba klikniec_82', 'Liczba klikniec_83', 'Liczba klikniec_84',\n",
              "       'Liczba klikniec_85', 'Liczba klikniec_86', 'Liczba klikniec_87',\n",
              "       'Liczba klikniec_88', 'Liczba klikniec_89', 'Liczba klikniec_90',\n",
              "       'Liczba klikniec_91', 'Liczba klikniec_92', 'Liczba klikniec_93',\n",
              "       'Liczba klikniec_94', 'Liczba klikniec_95', 'Liczba klikniec_96',\n",
              "       'Liczba klikniec_97', 'Liczba klikniec_98', 'Liczba klikniec_99',\n",
              "       'Liczba klikniec_100', 'Liczba wyswietlen_0',\n",
              "       'Liczba wyswietlen_1', 'Liczba wyswietlen_2',\n",
              "       'Liczba wyswietlen_3', 'Liczba wyswietlen_4',\n",
              "       'Liczba wyswietlen_5', 'Liczba wyswietlen_6',\n",
              "       'Liczba wyswietlen_7', 'Liczba wyswietlen_8',\n",
              "       'Liczba wyswietlen_9', 'Liczba wyswietlen_10',\n",
              "       'Liczba wyswietlen_11', 'Liczba wyswietlen_12',\n",
              "       'Liczba wyswietlen_13', 'Liczba wyswietlen_14',\n",
              "       'Liczba wyswietlen_15', 'Liczba wyswietlen_16',\n",
              "       'Liczba wyswietlen_17', 'Liczba wyswietlen_18',\n",
              "       'Liczba wyswietlen_19', 'Liczba wyswietlen_20',\n",
              "       'Liczba wyswietlen_21', 'Liczba wyswietlen_22',\n",
              "       'Liczba wyswietlen_23', 'Liczba wyswietlen_24',\n",
              "       'Liczba wyswietlen_25', 'Liczba wyswietlen_26',\n",
              "       'Liczba wyswietlen_27', 'Liczba wyswietlen_28',\n",
              "       'Liczba wyswietlen_29', 'Liczba wyswietlen_30',\n",
              "       'Liczba wyswietlen_31', 'Liczba wyswietlen_32',\n",
              "       'Liczba wyswietlen_33', 'Liczba wyswietlen_34',\n",
              "       'Liczba wyswietlen_35', 'Liczba wyswietlen_36',\n",
              "       'Liczba wyswietlen_37', 'Liczba wyswietlen_38',\n",
              "       'Liczba wyswietlen_39', 'Liczba wyswietlen_40',\n",
              "       'Liczba wyswietlen_41', 'Liczba wyswietlen_42',\n",
              "       'Liczba wyswietlen_43', 'Liczba wyswietlen_44',\n",
              "       'Liczba wyswietlen_45', 'Liczba wyswietlen_46',\n",
              "       'Liczba wyswietlen_47', 'Liczba wyswietlen_48',\n",
              "       'Liczba wyswietlen_49', 'Liczba wyswietlen_50',\n",
              "       'Liczba wyswietlen_51', 'Liczba wyswietlen_52',\n",
              "       'Liczba wyswietlen_53', 'Liczba wyswietlen_54',\n",
              "       'Liczba wyswietlen_55', 'Liczba wyswietlen_56',\n",
              "       'Liczba wyswietlen_57', 'Liczba wyswietlen_58',\n",
              "       'Liczba wyswietlen_59', 'Liczba wyswietlen_60',\n",
              "       'Liczba wyswietlen_61', 'Liczba wyswietlen_62',\n",
              "       'Liczba wyswietlen_63', 'Liczba wyswietlen_64',\n",
              "       'Liczba wyswietlen_65', 'Liczba wyswietlen_66',\n",
              "       'Liczba wyswietlen_67', 'Liczba wyswietlen_68',\n",
              "       'Liczba wyswietlen_69', 'Liczba wyswietlen_70',\n",
              "       'Liczba wyswietlen_71', 'Liczba wyswietlen_72',\n",
              "       'Liczba wyswietlen_73', 'Liczba wyswietlen_74',\n",
              "       'Liczba wyswietlen_75', 'Liczba wyswietlen_76',\n",
              "       'Liczba wyswietlen_77', 'Liczba wyswietlen_78',\n",
              "       'Liczba wyswietlen_79', 'Liczba wyswietlen_80',\n",
              "       'Liczba wyswietlen_81', 'Liczba wyswietlen_82',\n",
              "       'Liczba wyswietlen_83', 'Liczba wyswietlen_84',\n",
              "       'Liczba wyswietlen_85', 'Liczba wyswietlen_86',\n",
              "       'Liczba wyswietlen_87', 'Liczba wyswietlen_88',\n",
              "       'Liczba wyswietlen_89', 'Liczba wyswietlen_90',\n",
              "       'Liczba wyswietlen_91', 'Liczba wyswietlen_92',\n",
              "       'Liczba wyswietlen_93', 'Liczba wyswietlen_94',\n",
              "       'Liczba wyswietlen_95', 'Liczba wyswietlen_96',\n",
              "       'Liczba wyswietlen_97', 'Liczba wyswietlen_98',\n",
              "       'Liczba wyswietlen_99', 'Liczba wyswietlen_100', 'Path_Lenght_1',\n",
              "       'Path_Lenght_2', 'Path_Lenght_3', 'Path_Lenght_4', 'Path_Lenght_5',\n",
              "       'Path_Lenght_6', 'Path_Lenght_7', 'Path_Lenght_8', 'Path_Lenght_9',\n",
              "       'Path_Lenght_10', 'Path_Lenght_11', 'Path_Lenght_12',\n",
              "       'Path_Lenght_13', 'Path_Lenght_14', 'Path_Lenght_15',\n",
              "       'Path_Lenght_16', 'Path_Lenght_17', 'Path_Lenght_18',\n",
              "       'Path_Lenght_19', 'Path_Lenght_20', 'Path_Lenght_21',\n",
              "       'Path_Lenght_22', 'Path_Lenght_23', 'Path_Lenght_24',\n",
              "       'Path_Lenght_25', 'Path_Lenght_26', 'Path_Lenght_27',\n",
              "       'Path_Lenght_28', 'Path_Lenght_29', 'Path_Lenght_30',\n",
              "       'Path_Lenght_31', 'Path_Lenght_32', 'Path_Lenght_33',\n",
              "       'Path_Lenght_34', 'Path_Lenght_35', 'Path_Lenght_36',\n",
              "       'Path_Lenght_37', 'Path_Lenght_38', 'Path_Lenght_39',\n",
              "       'Path_Lenght_40', 'Path_Lenght_41', 'Path_Lenght_42',\n",
              "       'Path_Lenght_43', 'Path_Lenght_44', 'Path_Lenght_45',\n",
              "       'Path_Lenght_46', 'Path_Lenght_47', 'Path_Lenght_48',\n",
              "       'Path_Lenght_49', 'Path_Lenght_50', 'Path_Lenght_51',\n",
              "       'Path_Lenght_52', 'Path_Lenght_53', 'Path_Lenght_54',\n",
              "       'Path_Lenght_55', 'Path_Lenght_56', 'Path_Lenght_57',\n",
              "       'Path_Lenght_58', 'Path_Lenght_59', 'Path_Lenght_60',\n",
              "       'Path_Lenght_61', 'Path_Lenght_62', 'Path_Lenght_63',\n",
              "       'Path_Lenght_64', 'Path_Lenght_65', 'Path_Lenght_66',\n",
              "       'Path_Lenght_67', 'Path_Lenght_68', 'Path_Lenght_69',\n",
              "       'Path_Lenght_70', 'Path_Lenght_71', 'Path_Lenght_72',\n",
              "       'Path_Lenght_73', 'Path_Lenght_74', 'Path_Lenght_75',\n",
              "       'Path_Lenght_76', 'Path_Lenght_77', 'Path_Lenght_78',\n",
              "       'Path_Lenght_79', 'Path_Lenght_80', 'Path_Lenght_81',\n",
              "       'Path_Lenght_82', 'Path_Lenght_83', 'Path_Lenght_84',\n",
              "       'Path_Lenght_85', 'Path_Lenght_86', 'Path_Lenght_87',\n",
              "       'Path_Lenght_88', 'Path_Lenght_89', 'Path_Lenght_90',\n",
              "       'Path_Lenght_91', 'Path_Lenght_92', 'Path_Lenght_93',\n",
              "       'Path_Lenght_94', 'Path_Lenght_95', 'Path_Lenght_96',\n",
              "       'Path_Lenght_97', 'Path_Lenght_98', 'Path_Lenght_99',\n",
              "       'Path_Lenght_100', 'Path_Lenght_101', 'Path_Lenght_102',\n",
              "       'Path_Lenght_103', 'Path_Lenght_104', 'Path_Lenght_105',\n",
              "       'Path_Lenght_106', 'Path_Lenght_107', 'Path_Lenght_108',\n",
              "       'Path_Lenght_109', 'Path_Lenght_110', 'Path_Lenght_111',\n",
              "       'Path_Lenght_112', 'Path_Lenght_113', 'Path_Lenght_114',\n",
              "       'Path_Lenght_115', 'Path_Lenght_116', 'Path_Lenght_117',\n",
              "       'Path_Lenght_118', 'Path_Lenght_119', 'Path_Lenght_120',\n",
              "       'Path_Lenght_121', 'Path_Lenght_122', 'Path_Lenght_123',\n",
              "       'Path_Lenght_124', 'Path_Lenght_125', 'Path_Lenght_126',\n",
              "       'Path_Lenght_127', 'Path_Lenght_128', 'Path_Lenght_129',\n",
              "       'Path_Lenght_130', 'Path_Lenght_131', 'Path_Lenght_132',\n",
              "       'Path_Lenght_133', 'Path_Lenght_134', 'Path_Lenght_135',\n",
              "       'Path_Lenght_136', 'Path_Lenght_137', 'Path_Lenght_138',\n",
              "       'Path_Lenght_139', 'Path_Lenght_141', 'Path_Lenght_142',\n",
              "       'Path_Lenght_143', 'Path_Lenght_144', 'Path_Lenght_145',\n",
              "       'Path_Lenght_147', 'Path_Lenght_148', 'Path_Lenght_149',\n",
              "       'Path_Lenght_150', 'Path_Lenght_151', 'Path_Lenght_153',\n",
              "       'Path_Lenght_154', 'Path_Lenght_155', 'Path_Lenght_156',\n",
              "       'Path_Lenght_157', 'Path_Lenght_158', 'Path_Lenght_159',\n",
              "       'Path_Lenght_165', 'Path_Lenght_167', 'Path_Lenght_168',\n",
              "       'Path_Lenght_169', 'Path_Lenght_172', 'Path_Lenght_173',\n",
              "       'Path_Lenght_174', 'Path_Lenght_175', 'Path_Lenght_176',\n",
              "       'Path_Lenght_177', 'Path_Lenght_182', 'Path_Lenght_200',\n",
              "       'Check_Affiliate_Engaged_0', 'Check_Affiliate_Engaged_1',\n",
              "       'Check_BeforeToLast_for_Affiliate_0',\n",
              "       'Check_BeforeToLast_for_Affiliate_1', 'Affiliate_ends_path_0',\n",
              "       'Affiliate_ends_path_1'], dtype=object)"
            ]
          },
          "metadata": {},
          "execution_count": 18
        }
      ]
    },
    {
      "cell_type": "code",
      "source": [
        "data_final_vars = data_final.columns.values.tolist()\n",
        "y=['Check_conversion']\n",
        "X = [i for i in data_final_vars if i not in y]"
      ],
      "metadata": {
        "id": "eBFVar02Zzrl"
      },
      "execution_count": 19,
      "outputs": []
    },
    {
      "cell_type": "code",
      "source": [
        "from sklearn.feature_selection import RFE\n",
        "from sklearn.linear_model import LogisticRegression\n",
        "\n",
        "logreg = LogisticRegression()\n",
        "\n",
        "rfe = RFE(logreg, step = 18)\n",
        "\n",
        "rfe = rfe.fit(data[X],data[y].values.ravel())\n",
        "\n",
        "Selected_Features_Support = list(rfe.support_)\n",
        "Selected_Features_rank = list(rfe.ranking_)\n",
        "\n",
        "print(Selected_Features_Support)\n",
        "print(Selected_Features_rank)"
      ],
      "metadata": {
        "colab": {
          "base_uri": "https://localhost:8080/"
        },
        "id": "wzveXdGOaaUC",
        "outputId": "9ceea72e-6e7d-4eb0-be2a-f69a4d489bd7"
      },
      "execution_count": 23,
      "outputs": [
        {
          "output_type": "stream",
          "name": "stdout",
          "text": [
            "[False, True, False, True, True, True, True, True, True, True, True, True, True, True, True, True, True, True, True, True, True, True, False, True, False, False, True, True, True, False, False, False, True, False, False, False, True, False, False, False, False, False, True, False, True, False, False, False, False, False, False, False, False, False, False, False, False, False, False, False, False, False, False, False, True, False, False, True, False, False, False, False, True, True, True, False, True, True, True, True, True, True, True, True, True, True, True, True, True, True, True, True, True, True, True, True, True, True, True, True, True, True, True, True, True, True, True, True, True, True, True, True, True, True, True, True, True, True, True, True, True, True, True, True, True, True, True, True, True, True, True, True, True, True, True, True, True, True, True, False, False, True, True, False, False, False, False, False, False, False, False, False, False, False, False, False, False, False, False, False, False, False, False, False, False, False, False, False, False, False, False, False, False, False, False, False, False, False, False, False, False, False, False, True, False, False, False, False, False, False, False, False, False, False, False, False, False, False, False, False, False, False, False, False, False, True, True, True, True, True, True, True, True, True, True, True, True, True, True, True, True, True, True, True, True, True, True, True, True, True, True, True, True, True, True, True, True, True, True, True, False, True, True, True, False, False, True, True, True, True, True, True, False, True, True, False, True, False, False, False, True, False, False, False, True, False, False, False, False, False, False, True, False, False, True, True, True, False, False, True, True, True, True, True, True, True, True, True, True, True, True, True, True, True, True, True, True, True, True, True, True, True, True, True, True, True, True, True, True, True, True, True, False, False, True, False, False, False, False, False, False, False, False, False, False, False, False, False, False, False, False, False, False, False, False, False, False, False, False, False, False, False, False, False, False, False, False, False, False, False, False, False, False, False, False, False, False, False, False, False, False, False, False, False, False, False, False, False, False, False, False, False, False, False, True, True, False, False, True, True]\n",
            "[12, 1, 12, 1, 1, 1, 1, 1, 1, 1, 1, 1, 1, 1, 1, 1, 1, 1, 1, 1, 1, 1, 9, 1, 8, 9, 1, 1, 1, 8, 4, 9, 1, 9, 4, 3, 1, 9, 9, 4, 3, 2, 1, 3, 1, 4, 3, 3, 10, 3, 9, 10, 10, 2, 9, 10, 10, 2, 10, 10, 9, 4, 10, 9, 1, 2, 10, 1, 2, 2, 9, 10, 1, 1, 1, 2, 1, 1, 1, 1, 1, 1, 1, 1, 1, 1, 1, 1, 1, 1, 1, 1, 1, 1, 1, 1, 1, 1, 1, 1, 1, 1, 1, 1, 1, 1, 1, 1, 1, 1, 1, 1, 1, 1, 1, 1, 1, 1, 1, 1, 1, 1, 1, 1, 1, 1, 1, 1, 1, 1, 1, 1, 1, 1, 1, 1, 1, 1, 1, 5, 3, 1, 1, 3, 8, 3, 6, 3, 7, 6, 4, 5, 3, 5, 5, 6, 4, 4, 7, 6, 3, 5, 5, 7, 6, 3, 6, 5, 4, 5, 8, 11, 8, 5, 11, 8, 10, 6, 4, 5, 8, 11, 6, 1, 8, 8, 5, 8, 6, 11, 6, 8, 5, 8, 7, 9, 4, 4, 7, 7, 11, 8, 4, 7, 8, 1, 1, 1, 1, 1, 1, 1, 1, 1, 1, 1, 1, 1, 1, 1, 1, 1, 1, 1, 1, 1, 1, 1, 1, 1, 1, 1, 1, 1, 1, 1, 1, 1, 1, 1, 5, 1, 1, 1, 3, 9, 1, 1, 1, 1, 1, 1, 2, 1, 1, 4, 1, 3, 3, 7, 1, 4, 4, 5, 1, 6, 3, 5, 2, 3, 4, 1, 2, 7, 1, 1, 1, 7, 5, 1, 1, 1, 1, 1, 1, 1, 1, 1, 1, 1, 1, 1, 1, 1, 1, 1, 1, 1, 1, 1, 1, 1, 1, 1, 1, 1, 1, 1, 1, 1, 1, 1, 7, 6, 1, 6, 6, 4, 6, 7, 6, 5, 5, 7, 7, 7, 6, 8, 7, 6, 7, 9, 8, 7, 9, 9, 10, 11, 10, 9, 10, 10, 10, 10, 9, 12, 11, 11, 11, 12, 12, 11, 12, 11, 12, 11, 12, 10, 12, 12, 11, 11, 11, 12, 12, 11, 11, 12, 12, 12, 12, 12, 11, 12, 1, 1, 8, 8, 1, 1]\n"
          ]
        }
      ]
    },
    {
      "cell_type": "code",
      "source": [
        "columns_final = ['Liczba klikniec',\n",
        " 'Liczba wyswietlen',\n",
        " 'Path_Lenght',\n",
        " 'Check_Affiliate_Engaged',\n",
        " 'Check_BeforeToLast_for_Affiliate',\n",
        " 'Affiliate_ends_path'] \n",
        "\n",
        "X = data[columns_final]\n",
        "y = data['Check_conversion']"
      ],
      "metadata": {
        "id": "3njCcKVJkDbO"
      },
      "execution_count": 24,
      "outputs": []
    },
    {
      "cell_type": "markdown",
      "source": [
        "##Model Implementation"
      ],
      "metadata": {
        "id": "UgrwNC0ykfHd"
      }
    },
    {
      "cell_type": "code",
      "source": [
        "from sklearn.model_selection import train_test_split\n",
        "\n",
        "X_train,X_test,y_train,y_test = train_test_split(X,y, test_size = 0.3, random_state=0)"
      ],
      "metadata": {
        "id": "t1yx_w_BkZGF"
      },
      "execution_count": 25,
      "outputs": []
    },
    {
      "cell_type": "code",
      "source": [
        "from sklearn.linear_model import LogisticRegression\n",
        "from sklearn import metrics\n",
        "\n",
        "logreg = LogisticRegression()\n",
        "\n",
        "logreg.fit(X_train, y_train)"
      ],
      "metadata": {
        "colab": {
          "base_uri": "https://localhost:8080/"
        },
        "id": "6v1stxHIknR8",
        "outputId": "40634161-32f5-47fa-abb2-e1503ebc9978"
      },
      "execution_count": 26,
      "outputs": [
        {
          "output_type": "execute_result",
          "data": {
            "text/plain": [
              "LogisticRegression()"
            ]
          },
          "metadata": {},
          "execution_count": 26
        }
      ]
    },
    {
      "cell_type": "code",
      "source": [
        "y_pred = logreg.predict(X_test)\n",
        "\n",
        "print('Accuracy of logistic regression classifier on test set: {:2f}'.format(logreg.score(X_test,y_test)))"
      ],
      "metadata": {
        "colab": {
          "base_uri": "https://localhost:8080/"
        },
        "id": "LCoCp59akuWP",
        "outputId": "bcd86ef6-78c8-4fa3-cd5e-dfada562a867"
      },
      "execution_count": 27,
      "outputs": [
        {
          "output_type": "stream",
          "name": "stdout",
          "text": [
            "Accuracy of logistic regression classifier on test set: 0.742578\n"
          ]
        }
      ]
    },
    {
      "cell_type": "markdown",
      "source": [
        "## Cross Validation"
      ],
      "metadata": {
        "id": "1a1xbxgdkmiG"
      }
    },
    {
      "cell_type": "code",
      "source": [
        "from sklearn import model_selection\n",
        "from sklearn.model_selection import cross_val_score\n",
        "\n",
        "kfold = model_selection.KFold(n_splits = 10, random_state = 7, shuffle=True)\n",
        "\n",
        "modelCV = LogisticRegression()\n",
        "\n",
        "scoring = 'accuracy'\n",
        "\n",
        "results = model_selection.cross_val_score(modelCV, X_train,y_train, cv = kfold, scoring = scoring)\n",
        "\n",
        "print(\"10-fold cross-validation average accuracy : %.3f\" % (results.mean()))"
      ],
      "metadata": {
        "colab": {
          "base_uri": "https://localhost:8080/"
        },
        "id": "hE0V32FgkzJG",
        "outputId": "6a5e17e2-26ba-427f-a0f4-d4fc1baf2fc9"
      },
      "execution_count": 28,
      "outputs": [
        {
          "output_type": "stream",
          "name": "stdout",
          "text": [
            "10-fold cross-validation average accuracy : 0.746\n"
          ]
        }
      ]
    },
    {
      "cell_type": "markdown",
      "source": [
        "##Confusion Matrix and classification report"
      ],
      "metadata": {
        "id": "ODx_Y0wWk1FI"
      }
    },
    {
      "cell_type": "code",
      "source": [
        "from sklearn.metrics import confusion_matrix\n",
        "confusion_matrix = confusion_matrix(y_test, y_pred)\n",
        "print(confusion_matrix)"
      ],
      "metadata": {
        "colab": {
          "base_uri": "https://localhost:8080/"
        },
        "id": "s3cSoiOkaN_4",
        "outputId": "8011bdc3-8fd7-421c-c6b0-634b3628c601"
      },
      "execution_count": 34,
      "outputs": [
        {
          "output_type": "stream",
          "name": "stdout",
          "text": [
            "[[    0  9200]\n",
            " [ 2359 33344]]\n"
          ]
        }
      ]
    },
    {
      "cell_type": "code",
      "source": [
        "from sklearn.metrics import classification_report\n",
        "print(classification_report(y_test,y_pred))"
      ],
      "metadata": {
        "colab": {
          "base_uri": "https://localhost:8080/"
        },
        "id": "fZgsQTOmlHRV",
        "outputId": "e6fae7d3-0c71-4040-ff9c-601887c894ac"
      },
      "execution_count": 31,
      "outputs": [
        {
          "output_type": "stream",
          "name": "stdout",
          "text": [
            "              precision    recall  f1-score   support\n",
            "\n",
            "           0       0.00      0.00      0.00      9200\n",
            "           1       0.78      0.93      0.85     35703\n",
            "\n",
            "    accuracy                           0.74     44903\n",
            "   macro avg       0.39      0.47      0.43     44903\n",
            "weighted avg       0.62      0.74      0.68     44903\n",
            "\n"
          ]
        }
      ]
    }
  ],
  "metadata": {
    "colab": {
      "collapsed_sections": [],
      "name": "Model",
      "provenance": [],
      "toc_visible": true
    },
    "kernelspec": {
      "display_name": "Python 3",
      "name": "python3"
    }
  },
  "nbformat": 4,
  "nbformat_minor": 0
}